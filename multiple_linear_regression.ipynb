{
 "cells": [
  {
   "cell_type": "code",
   "execution_count": 8,
   "id": "b78b35bc",
   "metadata": {},
   "outputs": [],
   "source": [
    "#importing libraries\n",
    "import numpy as np\n",
    "import matplotlib.pyplot as plt\n",
    "import pandas as pd\n",
    "#import the dataset\n",
    "dataset =pd.read_csv(r\"C:\\Users\\vrinda\\Desktop\\2ndsem\\individual_learning\\udemy\\50_Startups.csv\")\n",
    "x= dataset.iloc[:,:-1].values\n",
    "y = dataset.iloc[:,-1].values \n",
    "#encoding the categorical data\n",
    "from sklearn.compose import ColumnTransformer\n",
    "from sklearn.preprocessing import OneHotEncoder\n",
    "ct = ColumnTransformer(transformers=)\n"
   ]
  },
  {
   "cell_type": "code",
   "execution_count": 7,
   "id": "10a43a5f",
   "metadata": {},
   "outputs": [],
   "source": [
    "\n"
   ]
  },
  {
   "cell_type": "code",
   "execution_count": null,
   "id": "4a498a29",
   "metadata": {},
   "outputs": [],
   "source": []
  }
 ],
 "metadata": {
  "kernelspec": {
   "display_name": "Python 3 (ipykernel)",
   "language": "python",
   "name": "python3"
  },
  "language_info": {
   "codemirror_mode": {
    "name": "ipython",
    "version": 3
   },
   "file_extension": ".py",
   "mimetype": "text/x-python",
   "name": "python",
   "nbconvert_exporter": "python",
   "pygments_lexer": "ipython3",
   "version": "3.9.16"
  }
 },
 "nbformat": 4,
 "nbformat_minor": 5
}
